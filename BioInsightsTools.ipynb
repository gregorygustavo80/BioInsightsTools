{
 "cells": [
  {
   "cell_type": "markdown",
   "metadata": {},
   "source": [
    "# BioInsightsTools\n",
    "       > Bioinformatics solutions"
   ]
  },
  {
   "cell_type": "code",
   "execution_count": null,
   "metadata": {},
   "outputs": [],
   "source": [
    "! pip install biopython"
   ]
  },
  {
   "cell_type": "markdown",
   "metadata": {},
   "source": [
    "### Conversão de DNA para proteína\n"
   ]
  },
  {
   "cell_type": "code",
   "execution_count": 6,
   "metadata": {},
   "outputs": [
    {
     "name": "stdout",
     "output_type": "stream",
     "text": [
      "Gene: ATTTGGCGCATCAGCAGCGCGCTAGCGCGCGCGCCCCCCGCGCGCTACACAC\n",
      " RNAm:AUUUGGCGCAUCAGCAGCGCGCUAGCGCGCGCGCCCCCCGCGCGCUACACA\n",
      " Proteína: IWRISSALARAPPARYT\n"
     ]
    }
   ],
   "source": [
    "from Bio.Seq import Seq\n",
    "\n",
    "def dna_prot():\n",
    "    def ajustar_sequencia(sequence):\n",
    "        resto = len(sequence) % 3\n",
    "        if resto != 0:\n",
    "            sequence = sequence[:-resto]\n",
    "        return sequence\n",
    "\n",
    "    seq = input('Digite a sequência de bases: ').strip().upper()\n",
    "    seq_ajustada = ajustar_sequencia(seq)\n",
    "\n",
    "    dnaM = Seq(seq_ajustada)\n",
    "    RNAm = dnaM.transcribe()\n",
    "    prot = RNAm.translate()\n",
    "\n",
    "    print(f'Gene: {seq}\\n RNAm:{RNAm}\\n Proteína: {prot}')\n",
    " \n",
    "dna_prot()"
   ]
  },
  {
   "cell_type": "markdown",
   "metadata": {},
   "source": [
    "### Alinhamento local e global de DNA"
   ]
  },
  {
   "cell_type": "code",
   "execution_count": null,
   "metadata": {},
   "outputs": [],
   "source": [
    "from Bio import pairwise2\n",
    "\n",
    "\n",
    "def alignG():\n",
    "    seq1 = input('Digite a primeira sequência: ').strip().upper()\n",
    "    seq2 = input('Digite a segunda sequência: ').strip().upper()\n",
    "    alignseq = pairwise2.align.globalms(seq1, seq2, 5, -4, -2, -0.5)\n",
    "    print(pairwise2.format_alignment(*alignseq[0])) \n",
    "\n",
    "def alignL():\n",
    "    seq1 = input('Digite a primeira sequência: ').strip().upper()\n",
    "    seq2 = input('Digite a segunda sequência: ').strip().upper()\n",
    "    alignseq = pairwise2.align.localms(seq1, seq2, 5, -4, -2, -0.5)\n",
    "    print(pairwise2.format_alignment(*alignseq[0])) \n",
    "\n",
    "def main():\n",
    "    try:\n",
    "        response = input('Digite [G] para glogal ou [L] para local: ').strip().upper()\n",
    "        if response == 'G':\n",
    "            return alignG()\n",
    "        elif response == 'L':\n",
    "            return alignL()\n",
    "        else: print(\"Entrada inválida. Por favor, digite 'G' para global ou 'L' para local.\")\n",
    "    except Exception as e:\n",
    "        print(f'Erro:{e} ')\n",
    "        \n",
    "main()\n"
   ]
  },
  {
   "cell_type": "markdown",
   "metadata": {},
   "source": [
    "### Alinhamento de proteínas com Matriz Blossum62"
   ]
  },
  {
   "cell_type": "code",
   "execution_count": null,
   "metadata": {},
   "outputs": [],
   "source": [
    "from Bio.Align import substitution_matrices\n",
    "from Bio import pairwise2\n",
    "\n",
    "def alignG():\n",
    "    seq1 = input('Digite a primeira sequência: ')\n",
    "    seq2 = input('Digite a segunda sequência: ')\n",
    "    matrizBlossum = substitution_matrices.load('BLOSUM62')\n",
    "    alignments = pairwise2.align.globaldx(seq1, seq2, matrizBlossum)\n",
    "    print(pairwise2.format_alignment(*alignments[0]))\n",
    "\n",
    "\n",
    "def alignL():\n",
    "    seq1 = input('Digite a primeira sequência: ').strip().upper()\n",
    "    seq2 = input('Digite a segunda sequência: ').strip().upper()\n",
    "    matrizBlossum = substitution_matrices.load('BLOSUM62')\n",
    "    alignments = pairwise2.align.localdx(seq1, seq2, matrizBlossum)\n",
    "    print(pairwise2.format_alignment(*alignments[0]))\n",
    "\n",
    "def main():\n",
    "    try:\n",
    "        response = input('Digite [G] para glogal ou [L] para local: ').strip().upper()\n",
    "        if response == 'G':\n",
    "            return alignG()\n",
    "        elif response == 'L':\n",
    "            return alignL()\n",
    "        else: print(\"Entrada inválida. Por favor, digite 'G' para global ou 'L' para local.\")\n",
    "    except Exception as e:\n",
    "        print(f'Erro:{e} ')\n",
    "        \n",
    "main()\n",
    "\n"
   ]
  },
  {
   "cell_type": "markdown",
   "metadata": {},
   "source": [
    "### Alinhamento de proteínas com a Matriz PAM250"
   ]
  },
  {
   "cell_type": "code",
   "execution_count": null,
   "metadata": {},
   "outputs": [],
   "source": [
    "from Bio.Align import substitution_matrices\n",
    "from Bio import pairwise2\n",
    "\n",
    "def alignG():\n",
    "    seq1 = input('Digite a primeira sequência:  ').strip().upper()\n",
    "    seq2 = input('Digite a segunda sequência:  ').strip().upper()\n",
    "    matrizPAM = substitution_matrices.load('PAM250')\n",
    "    alignments = pairwise2.align.globaldx(seq1, seq2, matrizPAM)\n",
    "    print(pairwise2.format_alignment(*alignments[0]))\n",
    "           \n",
    "def alignL():\n",
    "    seq1 = input('Digite a primeira sequência:  ').strip().upper()\n",
    "    seq2 = input('Digite a segunda sequência:  ').strip().upper()\n",
    "    matrizPAM = substitution_matrices.load('PAM250')\n",
    "    alignments = pairwise2.align.localdx(seq1, seq2, matrizPAM)\n",
    "    print(pairwise2.format_alignment(*alignments[0]))\n",
    "\n",
    "def main():\n",
    "    try:\n",
    "        response = input('Digite [G] para glogal ou [L] para local: ').strip().upper()\n",
    "        if response == 'G':\n",
    "            alignG()\n",
    "        elif response == 'L':\n",
    "            alignL()\n",
    "        else: print(\"Entrada inválida. Por favor, digite 'G' para global ou 'L' para local.\")\n",
    "    except Exception as e:\n",
    "        print(f'Erro:{e} ')\n",
    "        \n",
    "main()\n",
    "            \n"
   ]
  },
  {
   "cell_type": "markdown",
   "metadata": {},
   "source": [
    "### Primer Check "
   ]
  },
  {
   "cell_type": "code",
   "execution_count": null,
   "metadata": {},
   "outputs": [],
   "source": [
    "from Bio.SeqUtils import gc_fraction \n",
    "\n",
    "def analisar_primer():\n",
    "    sequence = input('Digite o primer: ').strip().upper()\n",
    "  \n",
    "    Tamanho = len(sequence)\n",
    "    gc = gc_fraction(sequence) * 100\n",
    "    at = 100 - gc\n",
    "\n",
    "    num_g = sequence.count('G')\n",
    "    num_c = sequence.count('C')\n",
    "    num_a = sequence.count('A')\n",
    "    num_t = sequence.count('T')\n",
    "    \n",
    "    tm = 4 * (num_g + num_c) + 2 * (num_a + num_t)\n",
    "\n",
    "    print(f'Tamanho: {Tamanho}')\n",
    "    print(f'Proporção GC: {gc:.1f}%')\n",
    "    print(f'Proporção AT: {at:.1f}%')\n",
    "    print(f'Temperatura de melting (Tm): {tm} °C')\n",
    "\n",
    "analisar_primer()\n"
   ]
  }
 ],
 "metadata": {
  "kernelspec": {
   "display_name": "Python 3",
   "language": "python",
   "name": "python3"
  },
  "language_info": {
   "codemirror_mode": {
    "name": "ipython",
    "version": 3
   },
   "file_extension": ".py",
   "mimetype": "text/x-python",
   "name": "python",
   "nbconvert_exporter": "python",
   "pygments_lexer": "ipython3",
   "version": "3.12.4"
  }
 },
 "nbformat": 4,
 "nbformat_minor": 2
}
